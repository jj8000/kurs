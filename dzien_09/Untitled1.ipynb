{
 "cells": [
  {
   "cell_type": "code",
   "execution_count": 11,
   "id": "4d4d631b",
   "metadata": {
    "scrolled": false
   },
   "outputs": [
    {
     "data": {
      "text/plain": [
       "pandas.core.frame.DataFrame"
      ]
     },
     "execution_count": 11,
     "metadata": {},
     "output_type": "execute_result"
    }
   ],
   "source": [
    "import pandas as pd \n",
    "import numpy as np\n",
    "import matplotlib.pyplot as plt\n",
    "df = pd.read_csv(\"titanic_train.csv\")\n",
    "type(df)"
   ]
  },
  {
   "cell_type": "code",
   "execution_count": 3,
   "id": "43e54448",
   "metadata": {},
   "outputs": [
    {
     "name": "stdout",
     "output_type": "stream",
     "text": [
      " Volume in drive C has no label.\n",
      " Volume Serial Number is 584F-CC44\n",
      "\n",
      " Directory of C:\\Users\\kurs\\workspace\n",
      "\n",
      "26.11.2022  16:31    <DIR>          .\n",
      "26.11.2022  16:31    <DIR>          ..\n",
      "13.11.2022  10:39                20 .gitignore\n",
      "26.11.2022  09:00    <DIR>          .idea\n",
      "26.11.2022  16:29    <DIR>          .ipynb_checkpoints\n",
      "23.10.2022  14:00    <DIR>          .pytest_cache\n",
      "09.10.2022  12:58    <DIR>          dzien_01\n",
      "22.10.2022  09:43    <DIR>          dzien_02\n",
      "23.10.2022  08:12    <DIR>          dzien_03\n",
      "29.10.2022  10:40    <DIR>          dzien_04\n",
      "30.10.2022  09:02    <DIR>          dzien_05\n",
      "30.10.2022  17:03    <DIR>          dzien_06\n",
      "12.11.2022  16:58    <DIR>          dzien_07\n",
      "13.11.2022  16:43    <DIR>          dzien_08\n",
      "26.11.2022  16:28    <DIR>          dzien_09\n",
      "26.11.2022  15:36           721˙866 Untitled.ipynb\n",
      "26.11.2022  16:31            14˙283 Untitled1.ipynb\n",
      "               3 File(s)        736˙169 bytes\n",
      "              14 Dir(s)  15˙748˙980˙736 bytes free\n"
     ]
    }
   ],
   "source": [
    "!dir\n"
   ]
  },
  {
   "cell_type": "code",
   "execution_count": null,
   "id": "abbfd784",
   "metadata": {},
   "outputs": [],
   "source": []
  }
 ],
 "metadata": {
  "kernelspec": {
   "display_name": "Python 3 (ipykernel)",
   "language": "python",
   "name": "python3"
  },
  "language_info": {
   "codemirror_mode": {
    "name": "ipython",
    "version": 3
   },
   "file_extension": ".py",
   "mimetype": "text/x-python",
   "name": "python",
   "nbconvert_exporter": "python",
   "pygments_lexer": "ipython3",
   "version": "3.10.7"
  }
 },
 "nbformat": 4,
 "nbformat_minor": 5
}
